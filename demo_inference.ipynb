{
 "cells": [
  {
   "cell_type": "markdown",
   "metadata": {},
   "source": [
    "# ssd_people head detector inference demo\n",
    "\n",
    "This is a brief tutorial that shows how to use our Single Shot Multibox Detector (SSD) based detector for head detection on images."
   ]
  },
  {
   "cell_type": "markdown",
   "source": [
    "## 0. Setup\n",
    "First, we import the libraries required to load images and setup the SSD head detector for inference. This model has been trained using [Pierluigi Ferrari's SSD implementation](https://github.com/pierluigiferrari/ssd_keras/), of which we include the required code in this repository. We refer you to the original implementation in case of an issue with that code.  "
   ],
   "metadata": {
    "collapsed": false,
    "pycharm": {
     "name": "#%% md\n"
    }
   }
  },
  {
   "cell_type": "code",
   "execution_count": null,
   "outputs": [],
   "source": [
    "from keras import backend as K\n",
    "from keras.models import load_model\n",
    "from keras.preprocessing import image\n",
    "# from keras.optimizers import Adam\n",
    "# from PIL import Image\n",
    "from imageio import imread\n",
    "import numpy as np\n",
    "from matplotlib import pyplot as plt\n",
    "\n",
    "# from models.keras_ssd512 import ssd_512\n",
    "from keras_loss_function.keras_ssd_loss import SSDLoss\n",
    "from keras_layers.keras_layer_AnchorBoxes import AnchorBoxes\n",
    "from keras_layers.keras_layer_DecodeDetections import DecodeDetections\n",
    "from keras_layers.keras_layer_DecodeDetectionsFast import DecodeDetectionsFast\n",
    "from keras_layers.keras_layer_L2Normalization import L2Normalization\n",
    "\n",
    "# from ssd_encoder_decoder.ssd_output_decoder import decode_detections, decode_detections_fast\n",
    "# \n",
    "# from data_generator.object_detection_2d_data_generator import DataGenerator\n",
    "# from data_generator.object_detection_2d_photometric_ops import ConvertTo3Channels\n",
    "# from data_generator.object_detection_2d_geometric_ops import Resize\n",
    "# from data_generator.object_detection_2d_misc_utils import apply_inverse_transforms\n",
    "\n",
    "%matplotlib inline"
   ],
   "metadata": {
    "collapsed": false,
    "pycharm": {
     "name": "#%%\n",
     "is_executing": true
    }
   }
  },
  {
   "cell_type": "markdown",
   "source": [
    "This model uses a 512x512 input size, let's set our image size to that resolution size:"
   ],
   "metadata": {
    "collapsed": false
   }
  },
  {
   "cell_type": "code",
   "execution_count": null,
   "metadata": {
    "pycharm": {
     "is_executing": true
    }
   },
   "outputs": [],
   "source": [
    "# Set the image size.\n",
    "img_height = 512\n",
    "img_width = 512"
   ]
  },
  {
   "cell_type": "markdown",
   "metadata": {},
   "source": [
    "## 1. Load a trained SSD model"
   ]
  },
  {
   "cell_type": "markdown",
   "source": [
    "### 1.1 Download the model's .h5 file\n",
    "First, we download the model's file from the server to this repository's \"data/models\" folder. We provide a simple script which will do this task for you, which you can execute by running the next cell. NOTE: this script requires `curl`to be installed in your system. \n",
    "\n",
    "In case you prefer to download the model manually, you can download it using the following [link](https://drive.google.com/open?id=12cqKTPtQBAu780219hEbST7VwQuf6xDH)."
   ],
   "metadata": {
    "collapsed": false,
    "pycharm": {
     "name": "#%% md\n"
    }
   }
  },
  {
   "cell_type": "code",
   "execution_count": null,
   "outputs": [],
   "source": [
    "import subprocess\n",
    "import os\n",
    "os.chdir('./data/')\n",
    "if 'download_model.sh' in os.listdir(os.getcwd()):\n",
    "    print(\"Downloading model...\")\n",
    "    subprocess.call(\"./download_model.sh\")\n",
    "    print(\"Download finished.\")"
   ],
   "metadata": {
    "collapsed": false,
    "pycharm": {
     "name": "#%%\n",
     "is_executing": true
    }
   }
  },
  {
   "cell_type": "markdown",
   "source": [
    "### 1.2 Load the model\n",
    "Let's load the downloaded model. Make sure the 'weights_path' is correctly set to the model's file path.  "
   ],
   "metadata": {
    "collapsed": false,
    "pycharm": {
     "name": "#%% md\n"
    }
   }
  },
  {
   "cell_type": "code",
   "execution_count": null,
   "metadata": {},
   "outputs": [],
   "source": [
    "# TODO: Set the path to the `.h5` file of the model\n",
    "weights_path = './data/models/ssd512-hollywood-trainval-bs_16-lr_1e-05-scale_pascal-epoch-187.h5'\n",
    "\n",
    "# Create an SSDLoss object in order to pass that to the model loader\n",
    "ssd_loss = SSDLoss(neg_pos_ratio=3, n_neg_min=0, alpha=1.0)\n",
    "\n",
    "# Clear previous models from memory.\n",
    "K.clear_session() \n",
    "\n",
    "# Finally load the model\n",
    "model = load_model(weights_path, custom_objects={'AnchorBoxes': AnchorBoxes,\n",
    "                                                 'L2Normalization': L2Normalization,\n",
    "                                                 'DecodeDetections': DecodeDetections,\n",
    "                                                 'compute_loss': ssd_loss.compute_loss})"
   ]
  },
  {
   "cell_type": "markdown",
   "metadata": {},
   "source": [
    "## 2. Load example images\n",
    "\n",
    "Load some images for which you'd like the model to make predictions."
   ]
  },
  {
   "cell_type": "code",
   "execution_count": null,
   "metadata": {},
   "outputs": [],
   "source": [
    "# Original images array\n",
    "orig_images = [] \n",
    "# Resized images array\n",
    "input_images = []\n",
    "\n",
    "# We'll only load one image in this example.\n",
    "img_path = 'examples/people_drinking.jpg'\n",
    "# img_path = 'examples/fish_bike.jpg'\n",
    "# img_path = 'data/datasets/hollywood-heads/keyframes/Bruce_Almighty-frame-132378.png'\n",
    "\n",
    "# Load the original image (used to display results)\n",
    "orig_images.append(imread(img_path))\n",
    "# orig_images.append(image.load_img(img_path))\n",
    "# Load the image resized to the model's input size\n",
    "img = image.load_img(img_path, target_size=(img_height, img_width))\n",
    "img = image.img_to_array(img)\n",
    "input_images.append(img)\n",
    "input_images = np.array(input_images)"
   ]
  },
  {
   "cell_type": "markdown",
   "metadata": {},
   "source": [
    "## 3. Make predictions"
   ]
  },
  {
   "cell_type": "code",
   "execution_count": null,
   "metadata": {},
   "outputs": [],
   "source": [
    "y_pred = model.predict(input_images)\n",
    "y_pred"
   ]
  },
  {
   "cell_type": "markdown",
   "metadata": {},
   "source": [
    "`y_pred` contains a fixed number of predictions per batch item (200 if you use the original model configuration), many of which are low-confidence predictions or dummy entries. We therefore need to apply a confidence threshold to filter out the bad predictions. Set this confidence threshold value how you see fit."
   ]
  },
  {
   "cell_type": "code",
   "execution_count": null,
   "metadata": {},
   "outputs": [],
   "source": [
    "confidence_threshold = 0.3\n",
    "\n",
    "# Perform confidence thresholding.\n",
    "y_pred_thresh = [y_pred[k][y_pred[k,:,1] > confidence_threshold] for k in range(y_pred.shape[0])]\n",
    "\n",
    "# Convert the predictions for the original image.\n",
    "# y_pred_thresh_inv = apply_inverse_transforms(y_pred_thresh, batch_inverse_transforms)\n",
    "\n",
    "np.set_printoptions(precision=2, suppress=True, linewidth=90)\n",
    "print(\"Predicted boxes:\\n\")\n",
    "print('   class   conf xmin   ymin   xmax   ymax')\n",
    "print(y_pred_thresh[0])"
   ]
  },
  {
   "cell_type": "markdown",
   "metadata": {},
   "source": [
    "## 4. Visualize the predictions\n",
    "\n",
    "We just resized the input image above and made predictions on the distorted image. We'd like to visualize the predictions on the image in its original size though, so below we'll transform the coordinates of the predicted boxes accordingly."
   ]
  },
  {
   "cell_type": "code",
   "execution_count": null,
   "metadata": {
    "pycharm": {
     "name": "#%%\n"
    }
   },
   "outputs": [],
   "source": [
    "# Display the image and draw the predicted boxes onto it.\n",
    "\n",
    "# Set the colors for the bounding boxes\n",
    "colors = plt.cm.hsv(np.linspace(0, 1, 21)).tolist()\n",
    "classes = ['background', 'head']\n",
    "\n",
    "plt.figure(figsize=(20,12))\n",
    "plt.imshow(orig_images[0])\n",
    "\n",
    "current_axis = plt.gca()\n",
    "\n",
    "for box in y_pred_thresh[0]:\n",
    "    # Transform the predicted bounding boxes for the 512x512 image to the original image dimensions.\n",
    "    xmin = box[2] * np.array(orig_images[0]).shape[1] / img_width\n",
    "    ymin = box[3] * np.array(orig_images[0]).shape[0] / img_height\n",
    "    xmax = box[4] * np.array(orig_images[0]).shape[1] / img_width\n",
    "    ymax = box[5] * np.array(orig_images[0]).shape[0] / img_height\n",
    "    color = colors[int(box[0])]\n",
    "    label = '{}: {:.2f}'.format(classes[int(box[0])], box[1])\n",
    "    current_axis.add_patch(plt.Rectangle((xmin, ymin), xmax-xmin, ymax-ymin, color=color, fill=False, linewidth=2))  \n",
    "    current_axis.text(xmin, ymin, label, size='x-large', color='white', bbox={'facecolor':color, 'alpha':1.0})\n"
   ]
  }
 ],
 "metadata": {
  "kernelspec": {
   "display_name": "Python 3",
   "language": "python",
   "name": "python3"
  },
  "language_info": {
   "codemirror_mode": {
    "name": "ipython",
    "version": 3
   },
   "file_extension": ".py",
   "mimetype": "text/x-python",
   "name": "python",
   "nbconvert_exporter": "python",
   "pygments_lexer": "ipython3",
   "version": "3.5.2"
  },
  "pycharm": {
   "stem_cell": {
    "cell_type": "raw",
    "source": [],
    "metadata": {
     "collapsed": false
    }
   }
  }
 },
 "nbformat": 4,
 "nbformat_minor": 2
}